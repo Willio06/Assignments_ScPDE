{
 "cells": [
  {
   "cell_type": "code",
   "execution_count": 2,
   "id": "c772cbd8",
   "metadata": {},
   "outputs": [],
   "source": [
    "import cupy as cp"
   ]
  },
  {
   "cell_type": "code",
   "execution_count": 4,
   "id": "916a04e8",
   "metadata": {},
   "outputs": [],
   "source": [
    "a = cp.array([1, 2, 3, 4, 5])"
   ]
  },
  {
   "cell_type": "code",
   "execution_count": 5,
   "id": "3ebc21c7",
   "metadata": {},
   "outputs": [
    {
     "data": {
      "text/plain": [
       "<CUDA Device 0>"
      ]
     },
     "execution_count": 5,
     "metadata": {},
     "output_type": "execute_result"
    }
   ],
   "source": [
    "a.device"
   ]
  },
  {
   "cell_type": "code",
   "execution_count": 6,
   "id": "c5cab2d5",
   "metadata": {},
   "outputs": [],
   "source": [
    "a[:2]=10"
   ]
  },
  {
   "cell_type": "code",
   "execution_count": 7,
   "id": "e5e6e785",
   "metadata": {},
   "outputs": [
    {
     "data": {
      "text/plain": [
       "array([10, 10,  3,  4,  5])"
      ]
     },
     "execution_count": 7,
     "metadata": {},
     "output_type": "execute_result"
    }
   ],
   "source": [
    "a"
   ]
  },
  {
   "cell_type": "code",
   "execution_count": 15,
   "id": "2bd4110f",
   "metadata": {},
   "outputs": [
    {
     "data": {
      "text/plain": [
       "array([ 0, 10, 10,  3,  4,  5])"
      ]
     },
     "execution_count": 15,
     "metadata": {},
     "output_type": "execute_result"
    }
   ],
   "source": [
    "cp.concatenate((cp.array([0]),a))"
   ]
  },
  {
   "cell_type": "code",
   "execution_count": 18,
   "id": "c0cd19fb",
   "metadata": {},
   "outputs": [
    {
     "data": {
      "text/plain": [
       "cupy.ndarray"
      ]
     },
     "execution_count": 18,
     "metadata": {},
     "output_type": "execute_result"
    }
   ],
   "source": [
    "type(cp.repeat(a, 2))"
   ]
  },
  {
   "cell_type": "code",
   "execution_count": 20,
   "id": "bc87268d",
   "metadata": {},
   "outputs": [],
   "source": [
    "import numpy as np"
   ]
  },
  {
   "cell_type": "code",
   "execution_count": 21,
   "id": "13201c17",
   "metadata": {},
   "outputs": [],
   "source": [
    "cc = np.array([500, 499])"
   ]
  },
  {
   "cell_type": "code",
   "execution_count": 26,
   "id": "3f1af09b",
   "metadata": {},
   "outputs": [],
   "source": [
    "x = np.array([ 1.15740013, -0.13872604])"
   ]
  },
  {
   "cell_type": "code",
   "execution_count": 28,
   "id": "b9d2947b",
   "metadata": {},
   "outputs": [
    {
     "data": {
      "text/plain": [
       "numpy.ndarray"
      ]
     },
     "execution_count": 28,
     "metadata": {},
     "output_type": "execute_result"
    }
   ],
   "source": [
    "type(cp.repeat(x, cc))"
   ]
  },
  {
   "cell_type": "code",
   "execution_count": null,
   "id": "9355b72f",
   "metadata": {},
   "outputs": [],
   "source": []
  }
 ],
 "metadata": {
  "kernelspec": {
   "display_name": "Python 3",
   "language": "python",
   "name": "python3"
  },
  "language_info": {
   "codemirror_mode": {
    "name": "ipython",
    "version": 3
   },
   "file_extension": ".py",
   "mimetype": "text/x-python",
   "name": "python",
   "nbconvert_exporter": "python",
   "pygments_lexer": "ipython3",
   "version": "3.12.6"
  }
 },
 "nbformat": 4,
 "nbformat_minor": 5
}
